{
 "cells": [
  {
   "cell_type": "code",
   "execution_count": 26,
   "metadata": {},
   "outputs": [],
   "source": [
    "#PyPoll\n",
    "import os\n",
    "import csv\n",
    "\n",
    "election_data = os.path.join(\"02-Homework_03-Python_Instructions_PyPoll_Resources_election_data.csv\")\n",
    "output_file = \"PyPoll.txt\""
   ]
  },
  {
   "cell_type": "code",
   "execution_count": null,
   "metadata": {},
   "outputs": [],
   "source": [
    "#list for candidates\n",
    "candidates = []\n",
    "\n",
    "#list for received votes\n",
    "received_votes = []\n",
    "\n",
    "#list for percentage of votes won\n",
    "percent_votes = []\n",
    "\n",
    "#total number of votes won counter\n",
    "total_votes = 0"
   ]
  },
  {
   "cell_type": "code",
   "execution_count": null,
   "metadata": {},
   "outputs": [],
   "source": [
    "with open(election_data, newline = \"\") as csvfile:\n",
    "    csvreader = csv.reader(csvfile, delimiter = \",\")\n",
    "    csv_header = next(csvreader)\n",
    "    \n",
    "    #to loop through rows and find which candidate had how many votes\n",
    "    for row in csvreader:\n",
    "        #add to total votes \n",
    "        total_votes += 1 \n",
    "        \n",
    "        #add row to open candidate list\n",
    "        if row[2] not in candidates:\n",
    "            candidates.append(row[2])\n",
    "            index = candidates.index(row[2])\n",
    "            received_votes.append(1)\n",
    "        else:\n",
    "            index = candidates.index(row[2])\n",
    "            received_votes[index] += 1\n",
    "    \n",
    "    #Add to percent_votes list \n",
    "    for votes in received_votes:\n",
    "        percentage = (votes/total_votes) * 100\n",
    "        percentage = round(percentage)\n",
    "        percentage = \"%.3f%%\" % percentage\n",
    "        percent_votes.append(percentage)\n",
    "    \n",
    "    #Find the winning candidate\n",
    "    winner = max(received_votes)\n",
    "    index = received_votes.index(winner)\n",
    "    winning_candidate = candidates[index]"
   ]
  },
  {
   "cell_type": "code",
   "execution_count": 24,
   "metadata": {},
   "outputs": [
    {
     "name": "stdout",
     "output_type": "stream",
     "text": [
      "Election Results\n",
      "--------------------------\n",
      "Total Votes: 3521001\n",
      "--------------------------\n",
      "Khan: 63.000% (2218231)\n",
      "Correy: 20.000% (704200)\n",
      "Li: 14.000% (492940)\n",
      "O'Tooley: 3.000% (105630)\n",
      "--------------------------\n",
      "Winner: Khan\n",
      "--------------------------\n"
     ]
    }
   ],
   "source": [
    "print(\"Election Results\")\n",
    "print(\"--------------------------\")\n",
    "print(f\"Total Votes: {str(total_votes)}\")\n",
    "print(\"--------------------------\")\n",
    "for i in range(len(candidates)):\n",
    "    print(f\"{candidates[i]}: {str(percent_votes[i])} ({str(received_votes[i])})\")\n",
    "print(\"--------------------------\")\n",
    "print(f\"Winner: {winning_candidate}\")\n",
    "print(\"--------------------------\")"
   ]
  },
  {
   "cell_type": "code",
   "execution_count": null,
   "metadata": {},
   "outputs": [],
   "source": []
  }
 ],
 "metadata": {
  "kernelspec": {
   "display_name": "Python 3",
   "language": "python",
   "name": "python3"
  },
  "language_info": {
   "codemirror_mode": {
    "name": "ipython",
    "version": 3
   },
   "file_extension": ".py",
   "mimetype": "text/x-python",
   "name": "python",
   "nbconvert_exporter": "python",
   "pygments_lexer": "ipython3",
   "version": "3.7.4"
  }
 },
 "nbformat": 4,
 "nbformat_minor": 2
}
