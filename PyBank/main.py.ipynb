{
 "cells": [
  {
   "cell_type": "code",
   "execution_count": 40,
   "metadata": {},
   "outputs": [],
   "source": [
    "#PyBank\n",
    "# Import os module that has functions to interact with the file system\n",
    "import os\n",
    "# Import module for reading CSV files\n",
    "import csv\n",
    "\n",
    "#Append file directory and make a complete file path\n",
    "filepath = os.path.join(\"02-Homework_03-Python_Instructions_PyBank_Resources_budget_data.csv\")\n",
    "output_file = \"PyBank.txt\""
   ]
  },
  {
   "cell_type": "code",
   "execution_count": 46,
   "metadata": {
    "scrolled": true
   },
   "outputs": [
    {
     "name": "stdout",
     "output_type": "stream",
     "text": [
      "Financial Analysis\n",
      "----------------------------\n",
      "Total Months : 86\n",
      "Total: $ 38382578\n",
      "Greatest Increase in Profits: Feb-2012 : ($ 1926159)\n",
      "Greatest Decrease in Profits: Sep-2013 : ($ -2196167)\n"
     ]
    }
   ],
   "source": [
    "month_count = 0; \n",
    "net_total = 0; \n",
    "amount = 0; \n",
    "profit = 0; \n",
    "profit_max = 0; \n",
    "profit_min = 0\n",
    "\n",
    "#Open and read CSV file\n",
    "with open(filepath, newline='') as csvfile:\n",
    "     csvreader = csv.reader(csvfile, delimiter=',')\n",
    "     csv_header = next(csvreader)\n",
    "     \n",
    "     for row in csvreader:\n",
    "         month = row[0]\n",
    "         pnl = row[1]\n",
    "         \n",
    "         #pnl = profit and loss\n",
    "         int_pnl = int(pnl)\n",
    "         profit =  int_pnl - amount\n",
    "         \n",
    "         #this will track month in which greatest increase in profit occured\n",
    "         if profit_max < profit:\n",
    "            profit_max = profit\n",
    "            profit_max_date = month\n",
    "         #this will track month in which greatest decrease in profit occured\n",
    "         if profit_min > profit:\n",
    "            profit_min = profit\n",
    "            profit_min_date = month\n",
    "\n",
    "         amount = int_pnl   \n",
    "         # Get total months (financial analysis)\n",
    "         month_count = month_count + 1\n",
    "         net_total += int(pnl) \n",
    "\n",
    "## Display Results ##      \n",
    "print(f'Financial Analysis')\n",
    "print(f'----------------------------')\n",
    "print(f'Total Months : {month_count}')\n",
    "print(f'Total: ${net_total}')\n",
    "print(f'Greatest Increase in Profits: {profit_max_date} : ($ {profit_max})')\n",
    "print(f'Greatest Decrease in Profits: {profit_min_date} : ($ {profit_min})')"
   ]
  },
  {
   "cell_type": "code",
   "execution_count": null,
   "metadata": {},
   "outputs": [],
   "source": []
  },
  {
   "cell_type": "code",
   "execution_count": null,
   "metadata": {},
   "outputs": [],
   "source": []
  },
  {
   "cell_type": "code",
   "execution_count": null,
   "metadata": {},
   "outputs": [],
   "source": []
  },
  {
   "cell_type": "code",
   "execution_count": null,
   "metadata": {},
   "outputs": [],
   "source": []
  }
 ],
 "metadata": {
  "kernelspec": {
   "display_name": "Python 3",
   "language": "python",
   "name": "python3"
  },
  "language_info": {
   "codemirror_mode": {
    "name": "ipython",
    "version": 3
   },
   "file_extension": ".py",
   "mimetype": "text/x-python",
   "name": "python",
   "nbconvert_exporter": "python",
   "pygments_lexer": "ipython3",
   "version": "3.7.4"
  }
 },
 "nbformat": 4,
 "nbformat_minor": 2
}
